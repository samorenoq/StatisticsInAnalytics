{
 "cells": [
  {
   "cell_type": "code",
   "execution_count": 47,
   "metadata": {},
   "outputs": [],
   "source": [
    "import numpy as np\n",
    "import pandas as pd\n",
    "import matplotlib.pyplot as plt\n",
    "from scipy import stats\n",
    "from scipy.spatial.distance import mahalanobis\n",
    "from sklearn.tree import DecisionTreeClassifier\n",
    "from sklearn.model_selection import train_test_split\n",
    "from sklearn.linear_model import LinearRegression\n",
    "from sklearn.metrics import r2_score\n",
    "import pingouin as pg\n",
    "import warnings\n",
    "from pandas.core.common import SettingWithCopyWarning\n",
    "\n",
    "%matplotlib inline"
   ]
  },
  {
   "cell_type": "markdown",
   "metadata": {},
   "source": [
    "# 2. Calentamiento"
   ]
  },
  {
   "cell_type": "code",
   "execution_count": 2,
   "metadata": {},
   "outputs": [
    {
     "data": {
      "text/plain": [
       "(12, 2)"
      ]
     },
     "execution_count": 2,
     "metadata": {},
     "output_type": "execute_result"
    }
   ],
   "source": [
    "X = np.array([\n",
    "    [0.8,0.8],\n",
    "    [0.8,1.2],\n",
    "    [3.8,2.8],\n",
    "    [4.2,3.2],\n",
    "    [1.0,1.0],\n",
    "    [1.2,1.2],\n",
    "    [4.2,2.8],\n",
    "    [4.4,2.8],\n",
    "    [3.5,1.0],\n",
    "    [4.0,1.0],\n",
    "    [3.8,0.5],\n",
    "    [4.0,0.7]])\n",
    "\n",
    "X.shape"
   ]
  },
  {
   "cell_type": "code",
   "execution_count": 3,
   "metadata": {},
   "outputs": [
    {
     "data": {
      "text/plain": [
       "(12,)"
      ]
     },
     "execution_count": 3,
     "metadata": {},
     "output_type": "execute_result"
    }
   ],
   "source": [
    "Y = np.array([1,\n",
    "              1,\n",
    "              2,\n",
    "              2,\n",
    "              1,\n",
    "              1,\n",
    "              2,\n",
    "              2,\n",
    "              3,\n",
    "              3,\n",
    "              3,\n",
    "              3])\n",
    "\n",
    "Y.shape"
   ]
  },
  {
   "cell_type": "code",
   "execution_count": 4,
   "metadata": {},
   "outputs": [],
   "source": [
    "from sklearn.neighbors import KNeighborsClassifier"
   ]
  },
  {
   "cell_type": "markdown",
   "metadata": {},
   "source": [
    "## 1. Calcule la precisión en el conjunto de entrenamiento\n",
    "\n",
    "(Se asumirá que $k=3$ inicialmente, ya que no se especifica)"
   ]
  },
  {
   "cell_type": "code",
   "execution_count": 5,
   "metadata": {},
   "outputs": [
    {
     "data": {
      "text/plain": [
       "KNeighborsClassifier(n_neighbors=3)"
      ]
     },
     "execution_count": 5,
     "metadata": {},
     "output_type": "execute_result"
    }
   ],
   "source": [
    "knn = KNeighborsClassifier(3)\n",
    "knn.fit(X, Y)"
   ]
  },
  {
   "cell_type": "code",
   "execution_count": 6,
   "metadata": {},
   "outputs": [],
   "source": [
    "def calcular_precision(modelo, X, Y):\n",
    "    return sum(modelo.predict(X) == Y)/len(Y)"
   ]
  },
  {
   "cell_type": "code",
   "execution_count": 7,
   "metadata": {},
   "outputs": [
    {
     "name": "stdout",
     "output_type": "stream",
     "text": [
      "La precisión del clasificador KNN, con k = 3 es 1.0\n"
     ]
    }
   ],
   "source": [
    "precision = calcular_precision(knn, X, Y)\n",
    "print(f'La precisión del clasificador KNN, con k = 3 es {precision}')"
   ]
  },
  {
   "cell_type": "markdown",
   "metadata": {},
   "source": [
    "## 2. Calcule la predicción para el punto de testeo $P = (3.0, 2.0)$"
   ]
  },
  {
   "cell_type": "code",
   "execution_count": 8,
   "metadata": {},
   "outputs": [
    {
     "name": "stdout",
     "output_type": "stream",
     "text": [
      "La predicción para el punto (3.0,2.0) es 3\n"
     ]
    }
   ],
   "source": [
    "print(f'La predicción para el punto (3.0,2.0) es {knn.predict(np.array([[3.0,2.0]]))[0]}')"
   ]
  },
  {
   "cell_type": "markdown",
   "metadata": {},
   "source": [
    "## 3. Experimentar con qué valor de k se obtiene la mejor precisión"
   ]
  },
  {
   "cell_type": "code",
   "execution_count": 9,
   "metadata": {},
   "outputs": [
    {
     "data": {
      "image/png": "[encoded data removed]",
      "text/plain": [
       "<Figure size 432x288 with 1 Axes>"
      ]
     },
     "metadata": {
      "needs_background": "light"
     },
     "output_type": "display_data"
    }
   ],
   "source": [
    "max_k = 10\n",
    "ks = np.arange(1,max_k+1)\n",
    "precisiones = np.zeros(max_k)\n",
    "\n",
    "for i,k in enumerate(ks):\n",
    "    knn_i = KNeighborsClassifier(k)\n",
    "    knn_i.fit(X, Y)\n",
    "    precisiones[i] = calcular_precision(knn_i, X, Y)\n",
    "    \n",
    "fig, ax = plt.subplots()\n",
    "\n",
    "ax.set_title('Precisión para cada $k$')\n",
    "ax.set_xlabel('$k$')\n",
    "ax.set_ylabel('Precisión')\n",
    "ax.plot(ks, precisiones, 'o-');"
   ]
  },
  {
   "cell_type": "markdown",
   "metadata": {},
   "source": [
    "Como se puede ver, la precisión es perfecta hasta llegar a $k = 7$ y de ahí en adelante disminuye rápidamente. Si hubiera más datos disponibles, se podría obtener una diferencia más clara"
   ]
  },
  {
   "cell_type": "markdown",
   "metadata": {},
   "source": [
    "## 4. KNN con distancia ponderada"
   ]
  },
  {
   "cell_type": "markdown",
   "metadata": {},
   "source": [
    "### Implementación del algoritmo"
   ]
  },
  {
   "cell_type": "code",
   "execution_count": 10,
   "metadata": {},
   "outputs": [],
   "source": [
    "def euclidiana(p, q):\n",
    "    return np.linalg.norm(p-q, ord=2)\n",
    "\n",
    "def etiqueta_ponderada(distancias, clases):\n",
    "    \"\"\"\n",
    "    k está implícito en la longitud de los vectores    \n",
    "    Se supone en esta función que las distancias ya están ordenadas\n",
    "    Las clases corresponden a cada distancia\n",
    "    \"\"\" \n",
    "    \n",
    "    # Hallar w para cada distancia\n",
    "    d1 = distancias[0]\n",
    "    dk = distancias[-1]\n",
    "    ponderaciones_clases = {clase: 0 for clase in np.unique(clases)}\n",
    "    for i, distancia in enumerate(distancias):\n",
    "        if dk == d1:\n",
    "            w = dk - distancia\n",
    "        else:\n",
    "            w = (dk - distancia)/(dk - d1)\n",
    "            \n",
    "        # Sumar la ponderación a su clase respectiva\n",
    "        clase = clases[i]\n",
    "        ponderaciones_clases[clase] += w\n",
    "        \n",
    "    # Retornar la clase con la mayor suma de ponderaciones\n",
    "    return max(ponderaciones_clases, key=ponderaciones_clases.get)\n",
    "    \n",
    "    \n",
    "def knn_manual(p, X, Y, k, distancia=euclidiana, ponderado=False):\n",
    "    # Calcular la distancia entre el punto p y todos los demás\n",
    "    distancias = np.array([distancia(p, i) for i in X])\n",
    "    # Hallar los k puntos con las menores distancias a p\n",
    "    min_dist_indices = distancias.argsort()[:k] \n",
    "    # Hallar las clases de los k puntos con menores distancia a p\n",
    "    k_clases = Y[min_dist_indices]\n",
    "    # Ponderar las distancias, si 'ponderado'=True\n",
    "    if ponderado:\n",
    "        return etiqueta_ponderada(distancias[min_dist_indices], k_clases)\n",
    "    # Hallar la moda del vector de clases para asignar esa moda a p\n",
    "    return stats.mode(k_clases)"
   ]
  },
  {
   "cell_type": "markdown",
   "metadata": {},
   "source": [
    "### Hallar la clase para el punto (3,2)"
   ]
  },
  {
   "cell_type": "markdown",
   "metadata": {},
   "source": [
    "#### Para $k = 1$"
   ]
  },
  {
   "cell_type": "code",
   "execution_count": 11,
   "metadata": {},
   "outputs": [
    {
     "name": "stdout",
     "output_type": "stream",
     "text": [
      "La predicción de KNN con distancia ponderada para (3,2), con k = 1 es 3\n"
     ]
    }
   ],
   "source": [
    "prediccion = knn_manual(np.array([[3,2]]), X, Y, 1, ponderado=True)\n",
    "print(f'La predicción de KNN con distancia ponderada para (3,2), con k = 1 es {prediccion}')"
   ]
  },
  {
   "cell_type": "markdown",
   "metadata": {},
   "source": [
    "#### Para $k = 5$"
   ]
  },
  {
   "cell_type": "code",
   "execution_count": 12,
   "metadata": {},
   "outputs": [
    {
     "name": "stdout",
     "output_type": "stream",
     "text": [
      "La predicción de KNN con distancia ponderada para (3,2), con k = 5 es 3\n"
     ]
    }
   ],
   "source": [
    "prediccion = knn_manual(np.array([[3,2]]), X, Y, 5, ponderado=True)\n",
    "print(f'La predicción de KNN con distancia ponderada para (3,2), con k = 5 es {prediccion}')"
   ]
  },
  {
   "cell_type": "markdown",
   "metadata": {},
   "source": [
    "# 3. Ejercicio de implementación"
   ]
  },
  {
   "cell_type": "markdown",
   "metadata": {},
   "source": [
    "## 1. Implementar KNN y validar con los datos de calentamiento"
   ]
  },
  {
   "cell_type": "markdown",
   "metadata": {},
   "source": [
    "Se usará la misma implementación que ya se hizo para el punto 2.4, con ponderado=False y $k = 3$ inicialmente"
   ]
  },
  {
   "cell_type": "code",
   "execution_count": 13,
   "metadata": {},
   "outputs": [],
   "source": [
    "def calcular_precision_knn_manual(X, Y, k):\n",
    "    predicciones = np.array([knn_manual(x, np.delete(X,i,0), np.delete(Y,i), k)[0][0] for i, x in enumerate(X)])\n",
    "    return sum(Y == predicciones)/len(Y)"
   ]
  },
  {
   "cell_type": "code",
   "execution_count": 14,
   "metadata": {},
   "outputs": [
    {
     "name": "stdout",
     "output_type": "stream",
     "text": [
      "La precisión del clasificador manual KNN, con k = 3 es 1.0\n"
     ]
    }
   ],
   "source": [
    "# Hallar la predicción de la implementación manual de KNN para cada punto del calentamiento\n",
    "precision = calcular_precision_knn_manual(X, Y, 3)\n",
    "print(f'La precisión del clasificador manual KNN, con k = 3 es {precision}')"
   ]
  },
  {
   "cell_type": "markdown",
   "metadata": {},
   "source": [
    "Calcular la precisión para diferentes valores de $k$ con la implementación manual"
   ]
  },
  {
   "cell_type": "code",
   "execution_count": 15,
   "metadata": {},
   "outputs": [],
   "source": [
    "def precision_por_k(X, Y, max_k):\n",
    "    ks = np.arange(1,max_k+1)\n",
    "    precisiones = np.zeros(max_k)\n",
    "\n",
    "    for i, k in enumerate(ks):\n",
    "        precisiones[i] = calcular_precision_knn_manual(X, Y, k)\n",
    "\n",
    "    fig, ax = plt.subplots()\n",
    "\n",
    "    ax.set_title('Precisión para cada $k$')\n",
    "    ax.set_xlabel('$k$')\n",
    "    ax.set_ylabel('Precisión')\n",
    "    ax.plot(ks, precisiones, 'o-');\n",
    "    \n",
    "    # Retornar el k que maximiza la precisión y su respectiva precisión\n",
    "    return np.argmax(precisiones)+1, max(precisiones)"
   ]
  },
  {
   "cell_type": "code",
   "execution_count": 16,
   "metadata": {},
   "outputs": [
    {
     "data": {
      "image/png": "[encoded data removed]",
      "text/plain": [
       "<Figure size 432x288 with 1 Axes>"
      ]
     },
     "metadata": {
      "needs_background": "light"
     },
     "output_type": "display_data"
    }
   ],
   "source": [
    "precision_por_k(X, Y, 10);"
   ]
  },
  {
   "cell_type": "markdown",
   "metadata": {},
   "source": [
    "Como se puede ver, el modelo de KNN implementado manualmente sigue siendo bastante preciso, pero en este caso la precisión empieza a disminuir a partir de $k = 6$. Nuevamente, se podría tener una mejor idea de su precisión si hubiera más datos."
   ]
  },
  {
   "cell_type": "markdown",
   "metadata": {},
   "source": [
    "## 2. Usar la base de datos _DatosFisher.xlsx_"
   ]
  },
  {
   "cell_type": "code",
   "execution_count": 17,
   "metadata": {},
   "outputs": [],
   "source": [
    "datos_fisher = np.array([[159. ,  49. ,  36. ,  68. ,  42. ,  57. ,  40. ],\n",
    "                         [164. ,  62. ,  39. ,  73. ,  44. ,  55. ,  44. ],\n",
    "                         [172. ,  65. ,  38. ,  75. ,  48. ,  58. ,  44. ],\n",
    "                         [167. ,  52. ,  37. ,  73. ,  41.5,  58. ,  44. ],\n",
    "                         [164. ,  51. ,  36. ,  71. ,  44.5,  54. ,  40. ],\n",
    "                         [161. ,  67. ,  38. ,  71. ,  44. ,  56. ,  42. ],\n",
    "                         [168. ,  48. ,  39. ,  72.5,  41. ,  54.5,  43. ],\n",
    "                         [181. ,  74. ,  43. ,  74. ,  50. ,  60. ,  47. ],\n",
    "                         [183. ,  74. ,  41. ,  79. ,  47.5,  59.5,  47. ],\n",
    "                         [158. ,  50. ,  36. ,  68.5,  44. ,  57. ,  41. ],\n",
    "                         [156. ,  65. ,  36. ,  68. ,  46. ,  58. ,  41. ],\n",
    "                         [173. ,  64. ,  40. ,  79. ,  48. ,  56.5,  47. ],\n",
    "                         [158. ,  43. ,  36. ,  68. ,  43. ,  55. ,  39. ],\n",
    "                         [178. ,  74. ,  42. ,  75. ,  50. ,  59. ,  45. ],\n",
    "                         [181. ,  76. ,  43. ,  83. ,  51. ,  57. ,  43. ],\n",
    "                         [182. ,  91. ,  41. ,  83. ,  53. ,  59. ,  43. ],\n",
    "                         [176. ,  73. ,  42. ,  78. ,  48. ,  58. ,  45. ],\n",
    "                         [162. ,  68. ,  39. ,  72. ,  44. ,  59. ,  42. ],\n",
    "                         [156. ,  52. ,  36. ,  67. ,  36. ,  56. ,  41. ],\n",
    "                         [152. ,  45. ,  34. ,  66. ,  40. ,  55. ,  38. ],\n",
    "                         [181. ,  80. ,  43. ,  76. ,  49. ,  57. ,  46. ],\n",
    "                         [173. ,  69. ,  41. ,  74. ,  48. ,  56. ,  44. ],\n",
    "                         [155. ,  53. ,  36. ,  67. ,  43. ,  56. ,  38. ],\n",
    "                         [189. ,  87. ,  45. ,  82. ,  53. ,  61. ,  52. ],\n",
    "                         [170. ,  70. ,  38. ,  73. ,  45. ,  56. ,  43. ],\n",
    "                         [170. ,  67. ,  40. ,  77. ,  46.5,  58. ,  44.5],\n",
    "                         [168. ,  56. ,  37.5,  70.5,  48. ,  60. ,  40. ]])"
   ]
  },
  {
   "cell_type": "markdown",
   "metadata": {},
   "source": [
    "Como _DatosFisher.xlsx_ no existe y solamente está _datosFisher.txt_, pero este no tiene etiquetas, se usarán las etiquetas inventadas que se usaron en clase para un ejemplo."
   ]
  },
  {
   "cell_type": "code",
   "execution_count": 18,
   "metadata": {},
   "outputs": [],
   "source": [
    "Y_fisher = np.array([0,1,0,1,1,0,0,1,0,0,0,1,0,1,1,0,1,0,0,0,1,1,0,1,0,1,0])"
   ]
  },
  {
   "cell_type": "code",
   "execution_count": 19,
   "metadata": {},
   "outputs": [
    {
     "name": "stdout",
     "output_type": "stream",
     "text": [
      "El k que minimiza el error de entrenamiento con estos datos es 6, con una precisión de 0.7777777777777778\n"
     ]
    },
    {
     "data": {
      "image/png": "[encoded data removed]",
      "text/plain": [
       "<Figure size 432x288 with 1 Axes>"
      ]
     },
     "metadata": {
      "needs_background": "light"
     },
     "output_type": "display_data"
    }
   ],
   "source": [
    "mejor_k, mejor_precision = precision_por_k(datos_fisher, Y_fisher, 15)\n",
    "print(f'El k que minimiza el error de entrenamiento con estos datos es {mejor_k}, con una precisión de {mejor_precision}')"
   ]
  },
  {
   "cell_type": "markdown",
   "metadata": {},
   "source": [
    "# 4. Ejercicio de implementación\n",
    "\n",
    "Nuevamente, como DatosFisher.xlsx no existe y solamente está datosFisher.txt, pero este no tiene etiquetas, se usarán las etiquetas inventadas que se usaron en clase para un ejemplo."
   ]
  },
  {
   "cell_type": "code",
   "execution_count": 20,
   "metadata": {},
   "outputs": [],
   "source": [
    "arbol_decision = DecisionTreeClassifier()"
   ]
  },
  {
   "cell_type": "markdown",
   "metadata": {},
   "source": [
    "El error que se usará será el error porcentual. Es decir, el error estará dado por \n",
    "$$\n",
    "\\sum_{i=1}^{n} \\frac{Y_i = \\hat{Y_i}}{n}\n",
    "$$\n",
    "Donde $n$ es el tamaño del conjunto y $Y_i = \\hat{Y_i}$ es $0$ si ${Y_i}\\neq\\hat{Y_i}$ y $1$ si ${Y_i} = \\hat{Y_i}$. Por esta razón, el error está entre 0 y 1."
   ]
  },
  {
   "cell_type": "code",
   "execution_count": 21,
   "metadata": {},
   "outputs": [
    {
     "data": {
      "image/png": "[encoded data removed]",
      "text/plain": [
       "<Figure size 1080x360 with 1 Axes>"
      ]
     },
     "metadata": {
      "needs_background": "light"
     },
     "output_type": "display_data"
    }
   ],
   "source": [
    "# Función para calcular el error de entrenamiento y testeo para un tamaño específico del conjunto entrenamiento\n",
    "def error_train_test(X, Y, modelo, porcentaje_train):\n",
    "    X_train, X_test, y_train, y_test = train_test_split(X, Y, train_size=porcentaje_train, random_state=100)\n",
    "    modelo.fit(X_train, y_train)\n",
    "    error_train = 1 - modelo.score(X_train, y_train)\n",
    "    error_test = 1 - modelo.score(X_test, y_test)\n",
    "    \n",
    "    return error_train, error_test\n",
    "\n",
    "# Función para graficar el error para diferentes tamaños del conjunto de entrenamiento\n",
    "def plot_error(X, Y, modelo):\n",
    "    porcentajes_train = np.linspace(0.5, 0.95, 10)\n",
    "    errores_train = np.zeros(len(porcentajes_train))\n",
    "    errores_test = np.zeros(len(porcentajes_train))\n",
    "    for i, porcentaje_train in enumerate(porcentajes_train):\n",
    "        errores_train[i], errores_test[i] = error_train_test(X, Y, modelo, porcentaje_train)\n",
    "        \n",
    "    # Graficar\n",
    "    fig, ax = plt.subplots(figsize=(15,5))\n",
    "    ax.set_title('Errores de entrenamiento y testeo')\n",
    "    ax.set_xlabel('% de datos para entrenamiento')\n",
    "    ax.set_ylabel('% de error')\n",
    "    ax.plot(porcentajes_train, errores_train, 'o-', label='Error de entrenamiento')\n",
    "    ax.plot(porcentajes_train, errores_test, 'o-', label='Error de testeo')\n",
    "    ax.legend();\n",
    "    \n",
    "plot_error(datos_fisher, Y_fisher, arbol_decision)"
   ]
  },
  {
   "cell_type": "markdown",
   "metadata": {},
   "source": [
    "Como el número de datos es tan bajo, no es fácil sacar una conclusión significativa. El error de entrenamiento siempre es 0, lo cual quiere decir que el modelo de árbol de decisión siempre aprende a clasificar perfectamente cada dato de entrenamiento, independientemente del tamaño del conjunto de entrenamiento (para este caso específico, en el que hay muy pocos datos). En cuanto al error de testeo, parece disminuir a medida que el conjunto de entrenamiento se hace más grande, lo cual tiene sentido, porque si puede entrenar con más datos, probablemente se equivocará menos en el conjunto de testeo. Sin embargo, esto sólo sucede hasta un punto, ya que cuando el conjunto de entrenamiento es demasiado grande, hay muy pocos datos para la validación (en este conjunto de datos, en el que hay muy pocos puntos), haciendo que cualquier error pese mucho en el total.\n",
    "\n",
    "A pesar de lo que se ve en esta gráfica, no se pueden sacar resultados concluyentes respecto al error de testeo, porque hay muy pocos datos. Si la partición del conjunto en entrenamiento y validación se hace muchas veces, sin definir una semilla (_random_state_, en este caso) la gráfica que se obtiene para el error de testeo siempre es muy diferente, entonces lo único concluyente con tan pocos datos es que el conjunto entrenamiento lo aprende muy bien, porque el error siempre es 0."
   ]
  },
  {
   "cell_type": "markdown",
   "metadata": {},
   "source": [
    "# 5. Descripción de datos multivariantes\n",
    "\n",
    "Como ELE.xlsx no existe, se trabajará con los datos de ConsumoElectro.xlsx"
   ]
  },
  {
   "cell_type": "code",
   "execution_count": 22,
   "metadata": {},
   "outputs": [
    {
     "data": {
      "text/html": [
       "<div>\n",
       "<style scoped>\n",
       "    .dataframe tbody tr th:only-of-type {\n",
       "        vertical-align: middle;\n",
       "    }\n",
       "\n",
       "    .dataframe tbody tr th {\n",
       "        vertical-align: top;\n",
       "    }\n",
       "\n",
       "    .dataframe thead th {\n",
       "        text-align: right;\n",
       "    }\n",
       "</style>\n",
       "<table border=\"1\" class=\"dataframe\">\n",
       "  <thead>\n",
       "    <tr style=\"text-align: right;\">\n",
       "      <th></th>\n",
       "      <th>Column1</th>\n",
       "      <th>Column2</th>\n",
       "      <th>Column3</th>\n",
       "      <th>Column4</th>\n",
       "      <th>Column5</th>\n",
       "    </tr>\n",
       "  </thead>\n",
       "  <tbody>\n",
       "    <tr>\n",
       "      <th>0</th>\n",
       "      <td>51.0</td>\n",
       "      <td>35.0</td>\n",
       "      <td>14.0</td>\n",
       "      <td>2.0</td>\n",
       "      <td>Con-Agresivo</td>\n",
       "    </tr>\n",
       "    <tr>\n",
       "      <th>1</th>\n",
       "      <td>49.0</td>\n",
       "      <td>30.0</td>\n",
       "      <td>14.0</td>\n",
       "      <td>2.0</td>\n",
       "      <td>Con-Agresivo</td>\n",
       "    </tr>\n",
       "    <tr>\n",
       "      <th>2</th>\n",
       "      <td>47.0</td>\n",
       "      <td>32.0</td>\n",
       "      <td>13.0</td>\n",
       "      <td>2.0</td>\n",
       "      <td>Con-Agresivo</td>\n",
       "    </tr>\n",
       "    <tr>\n",
       "      <th>3</th>\n",
       "      <td>46.0</td>\n",
       "      <td>31.0</td>\n",
       "      <td>15.0</td>\n",
       "      <td>2.0</td>\n",
       "      <td>Con-Agresivo</td>\n",
       "    </tr>\n",
       "    <tr>\n",
       "      <th>4</th>\n",
       "      <td>50.0</td>\n",
       "      <td>36.0</td>\n",
       "      <td>14.0</td>\n",
       "      <td>2.0</td>\n",
       "      <td>Con-Agresivo</td>\n",
       "    </tr>\n",
       "  </tbody>\n",
       "</table>\n",
       "</div>"
      ],
      "text/plain": [
       "   Column1  Column2  Column3  Column4       Column5\n",
       "0     51.0     35.0     14.0      2.0  Con-Agresivo\n",
       "1     49.0     30.0     14.0      2.0  Con-Agresivo\n",
       "2     47.0     32.0     13.0      2.0  Con-Agresivo\n",
       "3     46.0     31.0     15.0      2.0  Con-Agresivo\n",
       "4     50.0     36.0     14.0      2.0  Con-Agresivo"
      ]
     },
     "execution_count": 22,
     "metadata": {},
     "output_type": "execute_result"
    }
   ],
   "source": [
    "datos_electro = pd.read_excel('ConsumoElectro.xlsx').dropna()\n",
    "X_electro = datos_electro.drop('Column5', axis=1)\n",
    "Y_electro = datos_electro['Column5']\n",
    "datos_electro.head()"
   ]
  },
  {
   "cell_type": "markdown",
   "metadata": {},
   "source": [
    "## Descripción estadística de cada variable"
   ]
  },
  {
   "cell_type": "code",
   "execution_count": 23,
   "metadata": {},
   "outputs": [
    {
     "data": {
      "text/html": [
       "<div>\n",
       "<style scoped>\n",
       "    .dataframe tbody tr th:only-of-type {\n",
       "        vertical-align: middle;\n",
       "    }\n",
       "\n",
       "    .dataframe tbody tr th {\n",
       "        vertical-align: top;\n",
       "    }\n",
       "\n",
       "    .dataframe thead th {\n",
       "        text-align: right;\n",
       "    }\n",
       "</style>\n",
       "<table border=\"1\" class=\"dataframe\">\n",
       "  <thead>\n",
       "    <tr style=\"text-align: right;\">\n",
       "      <th></th>\n",
       "      <th>Column1</th>\n",
       "      <th>Column2</th>\n",
       "      <th>Column3</th>\n",
       "      <th>Column4</th>\n",
       "    </tr>\n",
       "  </thead>\n",
       "  <tbody>\n",
       "    <tr>\n",
       "      <th>count</th>\n",
       "      <td>150.000000</td>\n",
       "      <td>150.000000</td>\n",
       "      <td>150.000000</td>\n",
       "      <td>150.000000</td>\n",
       "    </tr>\n",
       "    <tr>\n",
       "      <th>mean</th>\n",
       "      <td>58.433333</td>\n",
       "      <td>30.540000</td>\n",
       "      <td>37.586667</td>\n",
       "      <td>11.986667</td>\n",
       "    </tr>\n",
       "    <tr>\n",
       "      <th>std</th>\n",
       "      <td>8.280661</td>\n",
       "      <td>4.335943</td>\n",
       "      <td>17.644204</td>\n",
       "      <td>7.631607</td>\n",
       "    </tr>\n",
       "    <tr>\n",
       "      <th>min</th>\n",
       "      <td>43.000000</td>\n",
       "      <td>20.000000</td>\n",
       "      <td>10.000000</td>\n",
       "      <td>1.000000</td>\n",
       "    </tr>\n",
       "    <tr>\n",
       "      <th>25%</th>\n",
       "      <td>51.000000</td>\n",
       "      <td>28.000000</td>\n",
       "      <td>16.000000</td>\n",
       "      <td>3.000000</td>\n",
       "    </tr>\n",
       "    <tr>\n",
       "      <th>50%</th>\n",
       "      <td>58.000000</td>\n",
       "      <td>30.000000</td>\n",
       "      <td>43.500000</td>\n",
       "      <td>13.000000</td>\n",
       "    </tr>\n",
       "    <tr>\n",
       "      <th>75%</th>\n",
       "      <td>64.000000</td>\n",
       "      <td>33.000000</td>\n",
       "      <td>51.000000</td>\n",
       "      <td>18.000000</td>\n",
       "    </tr>\n",
       "    <tr>\n",
       "      <th>max</th>\n",
       "      <td>79.000000</td>\n",
       "      <td>44.000000</td>\n",
       "      <td>69.000000</td>\n",
       "      <td>25.000000</td>\n",
       "    </tr>\n",
       "    <tr>\n",
       "      <th>curtosis</th>\n",
       "      <td>-0.573568</td>\n",
       "      <td>0.241443</td>\n",
       "      <td>-1.395359</td>\n",
       "      <td>-1.335246</td>\n",
       "    </tr>\n",
       "    <tr>\n",
       "      <th>asimetría</th>\n",
       "      <td>0.311753</td>\n",
       "      <td>0.330703</td>\n",
       "      <td>-0.271712</td>\n",
       "      <td>-0.103944</td>\n",
       "    </tr>\n",
       "  </tbody>\n",
       "</table>\n",
       "</div>"
      ],
      "text/plain": [
       "              Column1     Column2     Column3     Column4\n",
       "count      150.000000  150.000000  150.000000  150.000000\n",
       "mean        58.433333   30.540000   37.586667   11.986667\n",
       "std          8.280661    4.335943   17.644204    7.631607\n",
       "min         43.000000   20.000000   10.000000    1.000000\n",
       "25%         51.000000   28.000000   16.000000    3.000000\n",
       "50%         58.000000   30.000000   43.500000   13.000000\n",
       "75%         64.000000   33.000000   51.000000   18.000000\n",
       "max         79.000000   44.000000   69.000000   25.000000\n",
       "curtosis    -0.573568    0.241443   -1.395359   -1.335246\n",
       "asimetría    0.311753    0.330703   -0.271712   -0.103944"
      ]
     },
     "execution_count": 23,
     "metadata": {},
     "output_type": "execute_result"
    }
   ],
   "source": [
    "descripcion = datos_electro.describe()\n",
    "descripcion.loc['curtosis'] = stats.kurtosis(X_electro)\n",
    "descripcion.loc['asimetría'] = stats.skew(X_electro)\n",
    "descripcion"
   ]
  },
  {
   "cell_type": "markdown",
   "metadata": {},
   "source": [
    "## Calcular el vector de medias"
   ]
  },
  {
   "cell_type": "code",
   "execution_count": 24,
   "metadata": {},
   "outputs": [
    {
     "data": {
      "text/plain": [
       "array([58.43333333, 30.54      , 37.58666667, 11.98666667])"
      ]
     },
     "execution_count": 24,
     "metadata": {},
     "output_type": "execute_result"
    }
   ],
   "source": [
    "vector_medias = datos_electro.mean().values\n",
    "vector_medias"
   ]
  },
  {
   "cell_type": "markdown",
   "metadata": {},
   "source": [
    "## Calcular matriz de varianzas y covarianzas"
   ]
  },
  {
   "cell_type": "code",
   "execution_count": 25,
   "metadata": {},
   "outputs": [
    {
     "data": {
      "text/html": [
       "<div>\n",
       "<style scoped>\n",
       "    .dataframe tbody tr th:only-of-type {\n",
       "        vertical-align: middle;\n",
       "    }\n",
       "\n",
       "    .dataframe tbody tr th {\n",
       "        vertical-align: top;\n",
       "    }\n",
       "\n",
       "    .dataframe thead th {\n",
       "        text-align: right;\n",
       "    }\n",
       "</style>\n",
       "<table border=\"1\" class=\"dataframe\">\n",
       "  <thead>\n",
       "    <tr style=\"text-align: right;\">\n",
       "      <th></th>\n",
       "      <th>Column1</th>\n",
       "      <th>Column2</th>\n",
       "      <th>Column3</th>\n",
       "      <th>Column4</th>\n",
       "    </tr>\n",
       "  </thead>\n",
       "  <tbody>\n",
       "    <tr>\n",
       "      <th>Column1</th>\n",
       "      <td>68.112222</td>\n",
       "      <td>-3.900667</td>\n",
       "      <td>126.519111</td>\n",
       "      <td>51.345778</td>\n",
       "    </tr>\n",
       "    <tr>\n",
       "      <th>Column2</th>\n",
       "      <td>-3.900667</td>\n",
       "      <td>18.675067</td>\n",
       "      <td>-31.956800</td>\n",
       "      <td>-11.719467</td>\n",
       "    </tr>\n",
       "    <tr>\n",
       "      <th>Column3</th>\n",
       "      <td>126.519111</td>\n",
       "      <td>-31.956800</td>\n",
       "      <td>309.242489</td>\n",
       "      <td>128.774489</td>\n",
       "    </tr>\n",
       "    <tr>\n",
       "      <th>Column4</th>\n",
       "      <td>51.345778</td>\n",
       "      <td>-11.719467</td>\n",
       "      <td>128.774489</td>\n",
       "      <td>57.853156</td>\n",
       "    </tr>\n",
       "  </tbody>\n",
       "</table>\n",
       "</div>"
      ],
      "text/plain": [
       "            Column1    Column2     Column3     Column4\n",
       "Column1   68.112222  -3.900667  126.519111   51.345778\n",
       "Column2   -3.900667  18.675067  -31.956800  -11.719467\n",
       "Column3  126.519111 -31.956800  309.242489  128.774489\n",
       "Column4   51.345778 -11.719467  128.774489   57.853156"
      ]
     },
     "execution_count": 25,
     "metadata": {},
     "output_type": "execute_result"
    }
   ],
   "source": [
    "X_electro_centrada = X_electro - X_electro.T @ np.ones(len(X_electro))/len(X_electro)\n",
    "cov = 1/len(X_electro)*(X_electro_centrada.T@X_electro_centrada)\n",
    "cov"
   ]
  },
  {
   "cell_type": "markdown",
   "metadata": {},
   "source": [
    "### Calcular la matriz de varianzas corregida"
   ]
  },
  {
   "cell_type": "code",
   "execution_count": 26,
   "metadata": {},
   "outputs": [
    {
     "data": {
      "text/html": [
       "<div>\n",
       "<style scoped>\n",
       "    .dataframe tbody tr th:only-of-type {\n",
       "        vertical-align: middle;\n",
       "    }\n",
       "\n",
       "    .dataframe tbody tr th {\n",
       "        vertical-align: top;\n",
       "    }\n",
       "\n",
       "    .dataframe thead th {\n",
       "        text-align: right;\n",
       "    }\n",
       "</style>\n",
       "<table border=\"1\" class=\"dataframe\">\n",
       "  <thead>\n",
       "    <tr style=\"text-align: right;\">\n",
       "      <th></th>\n",
       "      <th>Column1</th>\n",
       "      <th>Column2</th>\n",
       "      <th>Column3</th>\n",
       "      <th>Column4</th>\n",
       "    </tr>\n",
       "  </thead>\n",
       "  <tbody>\n",
       "    <tr>\n",
       "      <th>Column1</th>\n",
       "      <td>68.569351</td>\n",
       "      <td>-3.926846</td>\n",
       "      <td>127.368233</td>\n",
       "      <td>51.690380</td>\n",
       "    </tr>\n",
       "    <tr>\n",
       "      <th>Column2</th>\n",
       "      <td>-3.926846</td>\n",
       "      <td>18.800403</td>\n",
       "      <td>-32.171275</td>\n",
       "      <td>-11.798121</td>\n",
       "    </tr>\n",
       "    <tr>\n",
       "      <th>Column3</th>\n",
       "      <td>127.368233</td>\n",
       "      <td>-32.171275</td>\n",
       "      <td>311.317942</td>\n",
       "      <td>129.638747</td>\n",
       "    </tr>\n",
       "    <tr>\n",
       "      <th>Column4</th>\n",
       "      <td>51.690380</td>\n",
       "      <td>-11.798121</td>\n",
       "      <td>129.638747</td>\n",
       "      <td>58.241432</td>\n",
       "    </tr>\n",
       "  </tbody>\n",
       "</table>\n",
       "</div>"
      ],
      "text/plain": [
       "            Column1    Column2     Column3     Column4\n",
       "Column1   68.569351  -3.926846  127.368233   51.690380\n",
       "Column2   -3.926846  18.800403  -32.171275  -11.798121\n",
       "Column3  127.368233 -32.171275  311.317942  129.638747\n",
       "Column4   51.690380 -11.798121  129.638747   58.241432"
      ]
     },
     "execution_count": 26,
     "metadata": {},
     "output_type": "execute_result"
    }
   ],
   "source": [
    "X_electro_centrada = X_electro - X_electro.T @ np.ones(len(X_electro))/len(X_electro)\n",
    "cov_corregida = 1/(len(X_electro)-1)*(X_electro_centrada.T @ X_electro_centrada)\n",
    "\n",
    "cov_corregida"
   ]
  },
  {
   "cell_type": "markdown",
   "metadata": {},
   "source": [
    "## Centralizar los datos y calcular la matriz de varianzas y covarianzas\n",
    "\n",
    "Esto fue parte de lo que ya se hizo en el punto anterior"
   ]
  },
  {
   "cell_type": "markdown",
   "metadata": {},
   "source": [
    "## Calcular la variabilidad total y la varianza promedio"
   ]
  },
  {
   "cell_type": "markdown",
   "metadata": {},
   "source": [
    "### Calcular la variabilidad total"
   ]
  },
  {
   "cell_type": "code",
   "execution_count": 27,
   "metadata": {},
   "outputs": [
    {
     "data": {
      "text/plain": [
       "456.9291275167785"
      ]
     },
     "execution_count": 27,
     "metadata": {},
     "output_type": "execute_result"
    }
   ],
   "source": [
    "variabilidad_total = np.trace(cov_corregida.values)\n",
    "\n",
    "variabilidad_total"
   ]
  },
  {
   "cell_type": "markdown",
   "metadata": {},
   "source": [
    "### Calcular la varianza promedio"
   ]
  },
  {
   "cell_type": "code",
   "execution_count": 28,
   "metadata": {},
   "outputs": [
    {
     "data": {
      "text/plain": [
       "3.04619418344519"
      ]
     },
     "execution_count": 28,
     "metadata": {},
     "output_type": "execute_result"
    }
   ],
   "source": [
    "varianza_promedio = variabilidad_total/len(X_electro)\n",
    "\n",
    "varianza_promedio"
   ]
  },
  {
   "cell_type": "markdown",
   "metadata": {},
   "source": [
    "## Calcular la varianza generalizada y la variabilidad promedio"
   ]
  },
  {
   "cell_type": "markdown",
   "metadata": {},
   "source": [
    "### Varianza generalizada"
   ]
  },
  {
   "cell_type": "code",
   "execution_count": 29,
   "metadata": {},
   "outputs": [
    {
     "data": {
      "text/plain": [
       "190327.57967392317"
      ]
     },
     "execution_count": 29,
     "metadata": {},
     "output_type": "execute_result"
    }
   ],
   "source": [
    "varianza_generalizada = np.linalg.det(cov_corregida.values)\n",
    "\n",
    "varianza_generalizada"
   ]
  },
  {
   "cell_type": "markdown",
   "metadata": {},
   "source": [
    "### Variabilidad promedio"
   ]
  },
  {
   "cell_type": "code",
   "execution_count": 30,
   "metadata": {},
   "outputs": [
    {
     "data": {
      "text/plain": [
       "1.0844179012333524"
      ]
     },
     "execution_count": 30,
     "metadata": {},
     "output_type": "execute_result"
    }
   ],
   "source": [
    "variabilidad_promedio = varianza_generalizada**(1/len(X_electro))\n",
    "\n",
    "variabilidad_promedio"
   ]
  },
  {
   "cell_type": "markdown",
   "metadata": {},
   "source": [
    "## Calcular la distancia de Mahalanobis\n",
    "\n",
    "Como no se especifica la pregunta, se calculará la distancia de Mahalanobis de cada registro al vector de medias."
   ]
  },
  {
   "cell_type": "code",
   "execution_count": 31,
   "metadata": {},
   "outputs": [
    {
     "data": {
      "image/png": "[encoded data removed]",
      "text/plain": [
       "<Figure size 432x288 with 1 Axes>"
      ]
     },
     "metadata": {
      "needs_background": "light"
     },
     "output_type": "display_data"
    }
   ],
   "source": [
    "distancias_mahalanobis = np.array([mahalanobis(dato, vector_medias, np.linalg.inv(cov_corregida)) for dato in X_electro.values])\n",
    "\n",
    "plt.plot(distancias_mahalanobis);"
   ]
  },
  {
   "cell_type": "markdown",
   "metadata": {},
   "source": [
    "Esta gráfica muestra la distancia entre cada punto y el vector de medias"
   ]
  },
  {
   "cell_type": "markdown",
   "metadata": {},
   "source": [
    "# 6. Análisis de dependencias lineales"
   ]
  },
  {
   "cell_type": "markdown",
   "metadata": {},
   "source": [
    "## Correlación entre pares de variables"
   ]
  },
  {
   "cell_type": "code",
   "execution_count": 54,
   "metadata": {},
   "outputs": [
    {
     "data": {
      "text/html": [
       "<div>\n",
       "<style scoped>\n",
       "    .dataframe tbody tr th:only-of-type {\n",
       "        vertical-align: middle;\n",
       "    }\n",
       "\n",
       "    .dataframe tbody tr th {\n",
       "        vertical-align: top;\n",
       "    }\n",
       "\n",
       "    .dataframe thead th {\n",
       "        text-align: right;\n",
       "    }\n",
       "</style>\n",
       "<table border=\"1\" class=\"dataframe\">\n",
       "  <thead>\n",
       "    <tr style=\"text-align: right;\">\n",
       "      <th></th>\n",
       "      <th>Column1</th>\n",
       "      <th>Column2</th>\n",
       "      <th>Column3</th>\n",
       "      <th>Column4</th>\n",
       "    </tr>\n",
       "  </thead>\n",
       "  <tbody>\n",
       "    <tr>\n",
       "      <th>Column1</th>\n",
       "      <td>1.000000</td>\n",
       "      <td>-0.109369</td>\n",
       "      <td>0.871754</td>\n",
       "      <td>0.817954</td>\n",
       "    </tr>\n",
       "    <tr>\n",
       "      <th>Column2</th>\n",
       "      <td>-0.109369</td>\n",
       "      <td>1.000000</td>\n",
       "      <td>-0.420516</td>\n",
       "      <td>-0.356544</td>\n",
       "    </tr>\n",
       "    <tr>\n",
       "      <th>Column3</th>\n",
       "      <td>0.871754</td>\n",
       "      <td>-0.420516</td>\n",
       "      <td>1.000000</td>\n",
       "      <td>0.962757</td>\n",
       "    </tr>\n",
       "    <tr>\n",
       "      <th>Column4</th>\n",
       "      <td>0.817954</td>\n",
       "      <td>-0.356544</td>\n",
       "      <td>0.962757</td>\n",
       "      <td>1.000000</td>\n",
       "    </tr>\n",
       "  </tbody>\n",
       "</table>\n",
       "</div>"
      ],
      "text/plain": [
       "          Column1   Column2   Column3   Column4\n",
       "Column1  1.000000 -0.109369  0.871754  0.817954\n",
       "Column2 -0.109369  1.000000 -0.420516 -0.356544\n",
       "Column3  0.871754 -0.420516  1.000000  0.962757\n",
       "Column4  0.817954 -0.356544  0.962757  1.000000"
      ]
     },
     "execution_count": 54,
     "metadata": {},
     "output_type": "execute_result"
    }
   ],
   "source": [
    "X_electro.corr()"
   ]
  },
  {
   "cell_type": "markdown",
   "metadata": {},
   "source": [
    "En esta tabla se muestra la matriz de correlación. Como se puede ver, la segunda variable tiene correlación negativa con todas las demás y las otras tres, tienen correlaciones positivas entre sí."
   ]
  },
  {
   "cell_type": "markdown",
   "metadata": {},
   "source": [
    "## Analizar la dependencia entre cada variable y las demás"
   ]
  },
  {
   "cell_type": "code",
   "execution_count": 33,
   "metadata": {},
   "outputs": [
    {
     "name": "stdout",
     "output_type": "stream",
     "text": [
      "La variable mejor explicada por las demás es Column3\n",
      "El coeficiente de determinación (R^2) de la regresión lineal entre esta variable y las demás es 0.968150119089107\n",
      "Los coeficientes de la regresión de la variable mejor explicada por las demás son [ 0.7303629  -0.65139445  1.44571962]\n"
     ]
    }
   ],
   "source": [
    "lr = LinearRegression()\n",
    "r2 = np.zeros(len(X_electro.T))\n",
    "betas = np.zeros(len(X_electro.T), dtype=np.ndarray)\n",
    "for i, variable in enumerate(X_electro):\n",
    "    X_temp = X_electro.drop(variable, axis=1).values\n",
    "    Y_temp = X_electro[variable].values\n",
    "    lr.fit(X_temp, Y_temp)\n",
    "    betas[i] = lr.coef_\n",
    "    Y_temp_pred = lr.predict(X_temp)\n",
    "    r2[i] = r2_score(Y_temp, Y_temp_pred)\n",
    "    \n",
    "print(f'La variable mejor explicada por las demás es {X_electro.columns[np.argmax(r2)]}')\n",
    "print(f'El coeficiente de determinación (R^2) de la regresión lineal entre esta variable y las demás es {r2.max()}')\n",
    "print(f'Los coeficientes de la regresión de la variable mejor explicada por las demás son {betas[np.argmax(r2)]}')"
   ]
  },
  {
   "cell_type": "markdown",
   "metadata": {},
   "source": [
    "## Analizar la correlación entre pares sin el efecto de las demás variables (correlación parcial)"
   ]
  },
  {
   "cell_type": "code",
   "execution_count": 73,
   "metadata": {},
   "outputs": [
    {
     "name": "stdout",
     "output_type": "stream",
     "text": [
      "Matriz de correlaciones parciales:\n",
      "           Column1   Column2   Column3   Column4\n",
      "Column1            0.630789  0.720648 -0.343936\n",
      "Column2  0.630789           -0.619101  0.360448\n",
      "Column3  0.720648 -0.619101             0.87211\n",
      "Column4 -0.343936  0.360448   0.87211          \n"
     ]
    }
   ],
   "source": [
    "# No mostrar warning de pandas\n",
    "warnings.simplefilter(action=\"ignore\", category=SettingWithCopyWarning)\n",
    "\n",
    "# Crear una matriz con la estructura de la matriz de correlaciones parciales\n",
    "correlaciones_parciales = X_electro.T @ X_electro\n",
    "\n",
    "# Llenar la matriz con los datos de correlaciones parciales entre cada variable y las demás\n",
    "for var1 in X_electro:\n",
    "    for var2 in X_electro:\n",
    "        if var1 != var2:\n",
    "            correlaciones_parciales[var1].loc[var2] = \\\n",
    "            (pg.partial_corr(data=X_electro,\n",
    "                             x=var1,\n",
    "                             y=var2,\n",
    "                             covar=list(X_electro.drop(var1, axis=1).drop(var2, axis=1).columns)).r[0])\n",
    "        else:\n",
    "            correlaciones_parciales[var1].loc[var2] = ''\n",
    "print(f'Matriz de correlaciones parciales:\\n {correlaciones_parciales}')"
   ]
  },
  {
   "cell_type": "markdown",
   "metadata": {},
   "source": [
    "## Analizar el conjunto completo de todas las variables"
   ]
  },
  {
   "cell_type": "code",
   "execution_count": null,
   "metadata": {},
   "outputs": [],
   "source": []
  },
  {
   "cell_type": "markdown",
   "metadata": {},
   "source": [
    "# 7. Problema de clasificación"
   ]
  },
  {
   "cell_type": "markdown",
   "metadata": {},
   "source": [
    "Dado que la columna 3 tiene un coeficiente de determinación tan alto (0.96), está casi perfectamente explicada por las demás variables. Por este motivo, se evaluará un clasificador usando todas las columnas y un clasificador sacando la columna 3, que, según lo demostrado anteriormente, no debería estar porque las demás la explican casi perfectamente. <br>\n",
    "\n",
    "Se usará un clasificador de árbol de decisión, como en el punto 4, con 80% de los datos para entrenamiento y 20% para validación."
   ]
  },
  {
   "cell_type": "code",
   "execution_count": 76,
   "metadata": {},
   "outputs": [],
   "source": [
    "arbol_decision = DecisionTreeClassifier()\n",
    "X_electro_sin_Column3 = X_electro.drop('Column3', axis = 1)"
   ]
  },
  {
   "cell_type": "markdown",
   "metadata": {},
   "source": [
    "## Modelo inicial, con todas las columnas"
   ]
  },
  {
   "cell_type": "code",
   "execution_count": 116,
   "metadata": {},
   "outputs": [
    {
     "data": {
      "text/plain": [
       "DecisionTreeClassifier()"
      ]
     },
     "execution_count": 116,
     "metadata": {},
     "output_type": "execute_result"
    }
   ],
   "source": [
    "porcentaje_train = 0.8\n",
    "X_train, X_test, y_train, y_test = train_test_split(X_electro.values, Y_electro, train_size=porcentaje_train)\n",
    "arbol_decision.fit(X_train, y_train)"
   ]
  },
  {
   "cell_type": "code",
   "execution_count": 117,
   "metadata": {},
   "outputs": [
    {
     "name": "stdout",
     "output_type": "stream",
     "text": [
      "La precisión en el conjunto de entrenamiento es 1.0\n",
      "La precisión en el conjunto de testeo es 0.9\n",
      "El error de entrenamiento es 0.0\n",
      "El error de testeo es 0.09999999999999998\n"
     ]
    }
   ],
   "source": [
    "print(f'La precisión en el conjunto de entrenamiento es {arbol_decision.score(X_train, y_train)}')\n",
    "print(f'La precisión en el conjunto de testeo es {arbol_decision.score(X_test, y_test)}')\n",
    "print(f'El error de entrenamiento es {1 - arbol_decision.score(X_train, y_train)}')\n",
    "print(f'El error de testeo es {1 - arbol_decision.score(X_test, y_test)}')"
   ]
  },
  {
   "cell_type": "markdown",
   "metadata": {},
   "source": [
    "## Modelo quitando Column3"
   ]
  },
  {
   "cell_type": "code",
   "execution_count": 118,
   "metadata": {},
   "outputs": [
    {
     "data": {
      "text/plain": [
       "DecisionTreeClassifier()"
      ]
     },
     "execution_count": 118,
     "metadata": {},
     "output_type": "execute_result"
    }
   ],
   "source": [
    "X_train, X_test, y_train, y_test = train_test_split(X_electro_sin_Column3.values, Y_electro, train_size=porcentaje_train)\n",
    "arbol_decision.fit(X_train, y_train)"
   ]
  },
  {
   "cell_type": "code",
   "execution_count": 119,
   "metadata": {},
   "outputs": [
    {
     "name": "stdout",
     "output_type": "stream",
     "text": [
      "La precisión en el conjunto de entrenamiento es 1.0\n",
      "La precisión en el conjunto de testeo es 0.9333333333333333\n",
      "El error de entrenamiento es 0.0\n",
      "El error de testeo es 0.06666666666666665\n"
     ]
    }
   ],
   "source": [
    "print(f'La precisión en el conjunto de entrenamiento es {arbol_decision.score(X_train, y_train)}')\n",
    "print(f'La precisión en el conjunto de testeo es {arbol_decision.score(X_test, y_test)}')\n",
    "print(f'El error de entrenamiento es {1 - arbol_decision.score(X_train, y_train)}')\n",
    "print(f'El error de testeo es {1 - arbol_decision.score(X_test, y_test)}')"
   ]
  },
  {
   "cell_type": "markdown",
   "metadata": {},
   "source": [
    "Es difícil sacar una conclusión válida en este caso porque hay muy pocos datos. A veces la precisión es mejor cuando se quita la variable y a veces no, entonces no es posible tener una conclusión contundente, porque hay muy pocos datos y esto hace que las precisiones y errores varíen mucho sólo por la semilla que usan las funciones de separación de conjuntos de entrenamiento y validación y el clasificador."
   ]
  },
  {
   "cell_type": "code",
   "execution_count": null,
   "metadata": {},
   "outputs": [],
   "source": []
  }
 ],
 "metadata": {
  "kernelspec": {
   "display_name": "Python 3",
   "language": "python",
   "name": "python3"
  },
  "language_info": {
   "codemirror_mode": {
    "name": "ipython",
    "version": 3
   },
   "file_extension": ".py",
   "mimetype": "text/x-python",
   "name": "python",
   "nbconvert_exporter": "python",
   "pygments_lexer": "ipython3",
   "version": "3.8.5"
  }
 },
 "nbformat": 4,
 "nbformat_minor": 4
}
